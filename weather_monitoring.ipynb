{
 "cells": [
  {
   "cell_type": "code",
   "execution_count": 14,
   "id": "50be886f-48a8-4f1e-8a48-032a670c72e9",
   "metadata": {},
   "outputs": [
    {
     "name": "stdout",
     "output_type": "stream",
     "text": [
      "Requirement already satisfied: requests in c:\\users\\dell\\appdata\\local\\programs\\python\\python310\\lib\\site-packages (2.31.0)Note: you may need to restart the kernel to use updated packages.\n",
      "\n",
      "Requirement already satisfied: charset-normalizer<4,>=2 in c:\\users\\dell\\appdata\\local\\programs\\python\\python310\\lib\\site-packages (from requests) (3.2.0)\n",
      "Requirement already satisfied: idna<4,>=2.5 in c:\\users\\dell\\appdata\\local\\programs\\python\\python310\\lib\\site-packages (from requests) (3.4)\n",
      "Requirement already satisfied: urllib3<3,>=1.21.1 in c:\\users\\dell\\appdata\\local\\programs\\python\\python310\\lib\\site-packages (from requests) (1.26.18)\n",
      "Requirement already satisfied: certifi>=2017.4.17 in c:\\users\\dell\\appdata\\local\\programs\\python\\python310\\lib\\site-packages (from requests) (2023.7.22)\n"
     ]
    }
   ],
   "source": [
    "pip install requests "
   ]
  },
  {
   "cell_type": "code",
   "execution_count": 15,
   "id": "6ce66aa4-e6cf-4c6e-8977-cf111bc47fe6",
   "metadata": {},
   "outputs": [
    {
     "name": "stdout",
     "output_type": "stream",
     "text": [
      "Requirement already satisfied: schedule in c:\\users\\dell\\appdata\\local\\programs\\python\\python310\\lib\\site-packages (1.2.2)Note: you may need to restart the kernel to use updated packages.\n",
      "\n"
     ]
    }
   ],
   "source": [
    "pip install  schedule \n"
   ]
  },
  {
   "cell_type": "code",
   "execution_count": 17,
   "id": "9379d4b4-43de-4560-b54b-477530038cc8",
   "metadata": {},
   "outputs": [
    {
     "name": "stdout",
     "output_type": "stream",
     "text": [
      "Requirement already satisfied: matplotlib in c:\\users\\dell\\appdata\\local\\programs\\python\\python310\\lib\\site-packages (3.9.2)\n",
      "Requirement already satisfied: contourpy>=1.0.1 in c:\\users\\dell\\appdata\\local\\programs\\python\\python310\\lib\\site-packages (from matplotlib) (1.3.0)\n",
      "Requirement already satisfied: cycler>=0.10 in c:\\users\\dell\\appdata\\local\\programs\\python\\python310\\lib\\site-packages (from matplotlib) (0.12.1)\n",
      "Requirement already satisfied: fonttools>=4.22.0 in c:\\users\\dell\\appdata\\local\\programs\\python\\python310\\lib\\site-packages (from matplotlib) (4.54.1)\n",
      "Requirement already satisfied: kiwisolver>=1.3.1 in c:\\users\\dell\\appdata\\local\\programs\\python\\python310\\lib\\site-packages (from matplotlib) (1.4.7)\n",
      "Requirement already satisfied: numpy>=1.23 in c:\\users\\dell\\appdata\\local\\programs\\python\\python310\\lib\\site-packages (from matplotlib) (1.26.0)\n",
      "Requirement already satisfied: packaging>=20.0 in c:\\users\\dell\\appdata\\local\\programs\\python\\python310\\lib\\site-packages (from matplotlib) (23.1)\n",
      "Requirement already satisfied: pillow>=8 in c:\\users\\dell\\appdata\\local\\programs\\python\\python310\\lib\\site-packages (from matplotlib) (10.2.0)\n",
      "Requirement already satisfied: pyparsing>=2.3.1 in c:\\users\\dell\\appdata\\local\\programs\\python\\python310\\lib\\site-packages (from matplotlib) (3.2.0)\n",
      "Requirement already satisfied: python-dateutil>=2.7 in c:\\users\\dell\\appdata\\local\\programs\\python\\python310\\lib\\site-packages (from matplotlib) (2.8.2)\n",
      "Requirement already satisfied: six>=1.5 in c:\\users\\dell\\appdata\\local\\programs\\python\\python310\\lib\\site-packages (from python-dateutil>=2.7->matplotlib) (1.16.0)\n",
      "Note: you may need to restart the kernel to use updated packages.\n"
     ]
    }
   ],
   "source": [
    " pip install matplotlib"
   ]
  },
  {
   "cell_type": "code",
   "execution_count": 71,
   "id": "17c426c8-2768-47ad-859a-4354be4eb147",
   "metadata": {},
   "outputs": [],
   "source": [
    "# Real-Time Data Processing System for Weather Monitoring\n",
    "\n",
    "## Step 1: Importing Libraries\n",
    "#python\n",
    "import requests\n",
    "import sqlite3\n",
    "import matplotlib.pyplot as plt\n",
    "import datetime\n",
    "import schedule\n",
    "import time\n"
   ]
  },
  {
   "cell_type": "code",
   "execution_count": 72,
   "id": "351adad6-f5e4-415e-8a79-c94d7041919f",
   "metadata": {},
   "outputs": [],
   "source": [
    "API_KEY = '9fb255b1ec732f0f5651fb7d34866d0e'  # Replace with your actual API key\n",
    "CITIES = ['Delhi', 'Mumbai', 'Chennai', 'Bangalore', 'Kolkata', 'Hyderabad']\n",
    "BASE_URL = \"http://api.openweathermap.org/data/2.5/weather\"\n"
   ]
  },
  {
   "cell_type": "code",
   "execution_count": 73,
   "id": "094093bd-a053-4a31-92bb-fbddba60b26e",
   "metadata": {},
   "outputs": [],
   "source": [
    "def fetch_weather_data(city):\n",
    "    params = {'q': city, 'appid': API_KEY}\n",
    "    response = requests.get(BASE_URL, params=params)\n",
    "    if response.status_code == 200:\n",
    "        data = response.json()\n",
    "        return {\n",
    "            'city': city,\n",
    "            'temperature': data['main']['temp'] - 273.15,  # Convert to Celsius\n",
    "            'feels_like': data['main']['feels_like'] - 273.15,\n",
    "            'weather_condition': data['weather'][0]['main'],\n",
    "            'timestamp': data['dt']  # Unix timestamp\n",
    "        }\n",
    "    else:\n",
    "        print(f\"Failed to fetch data for {city}\")\n",
    "        return None\n"
   ]
  },
  {
   "cell_type": "code",
   "execution_count": 74,
   "id": "c0951f78-216c-4b2f-bac8-a2326331ed81",
   "metadata": {},
   "outputs": [],
   "source": [
    "conn = sqlite3.connect('weather.db')\n",
    "\n",
    "def create_tables():\n",
    "    conn.execute('''CREATE TABLE IF NOT EXISTS weather\n",
    "                    (city TEXT, temperature REAL, feels_like REAL, weather_condition TEXT, timestamp INT)''')\n",
    "    conn.execute('''CREATE TABLE IF NOT EXISTS daily_summary\n",
    "                    (city TEXT, date TEXT, avg_temp REAL, max_temp REAL, min_temp REAL, dominant_condition TEXT)''')\n",
    "    conn.commit()\n",
    "\n",
    "create_tables()\n"
   ]
  },
  {
   "cell_type": "code",
   "execution_count": 75,
   "id": "18ef6c44-c9b7-4afd-9c7e-e72e51832fb0",
   "metadata": {},
   "outputs": [],
   "source": [
    "def insert_weather_data(data):\n",
    "    conn.execute(\"INSERT INTO weather VALUES (?, ?, ?, ?, ?)\", \n",
    "                 (data['city'], data['temperature'], data['feels_like'], data['weather_condition'], data['timestamp']))\n",
    "    conn.commit()\n",
    "\n",
    "# Fetch data for all cities and store it\n",
    "for city in CITIES:\n",
    "    weather_data = fetch_weather_data(city)\n",
    "    if weather_data:\n",
    "        insert_weather_data(weather_data)\n"
   ]
  },
  {
   "cell_type": "code",
   "execution_count": 76,
   "id": "d944e3a8-65d4-4db6-81b2-4cb56c3967d6",
   "metadata": {},
   "outputs": [],
   "source": [
    "def calculate_daily_summary():\n",
    "    date_today = datetime.datetime.now().strftime('%Y-%m-%d')\n",
    "    for city in CITIES:\n",
    "        query = f\"SELECT temperature, weather_condition FROM weather WHERE city='{city}' AND date(timestamp, 'unixepoch')='{date_today}'\"\n",
    "        rows = conn.execute(query).fetchall()\n",
    "        if rows:\n",
    "            temps = [row[0] for row in rows]\n",
    "            weather_conditions = [row[1] for row in rows]\n",
    "            avg_temp = sum(temps) / len(temps)\n",
    "            max_temp = max(temps)\n",
    "            min_temp = min(temps)\n",
    "            dominant_condition = max(set(weather_conditions), key=weather_conditions.count)\n",
    "            conn.execute(\"INSERT INTO daily_summary VALUES (?, ?, ?, ?, ?, ?)\",\n",
    "                         (city, date_today, avg_temp, max_temp, min_temp, dominant_condition))\n",
    "            conn.commit()\n",
    "\n",
    "calculate_daily_summary()\n"
   ]
  },
  {
   "cell_type": "code",
   "execution_count": 77,
   "id": "9212fa5c-d1ea-4a46-8091-735b26c06f58",
   "metadata": {},
   "outputs": [],
   "source": [
    "ALERT_THRESHOLD = 35.0  \n",
    "\n",
    "def check_threshold(city, temperature):\n",
    "    if temperature > ALERT_THRESHOLD:\n",
    "        print(f\"Alert! {city} has exceeded the temperature threshold with {temperature}°C.\")\n",
    "\n",
    "# Simulate fetching weather data and triggering alerts\n",
    "for city in CITIES:\n",
    "    weather_data = fetch_weather_data(city)\n",
    "    if weather_data:\n",
    "        check_threshold(city, weather_data['temperature'])\n"
   ]
  },
  {
   "cell_type": "code",
   "execution_count": 78,
   "id": "be02f023-9f96-4734-96b2-0feb4e2867cf",
   "metadata": {},
   "outputs": [
    {
     "data": {
      "image/png": "[encoded data removed]",
      "text/plain": [
       "<Figure size 640x480 with 1 Axes>"
      ]
     },
     "metadata": {},
     "output_type": "display_data"
    }
   ],
   "source": [
    "def plot_weather_trend(city):\n",
    "    query = f\"SELECT timestamp, temperature FROM weather WHERE city='{city}'\"\n",
    "    rows = conn.execute(query).fetchall()\n",
    "    if rows:\n",
    "        timestamps = [datetime.datetime.utcfromtimestamp(row[0]) for row in rows]\n",
    "        temps = [row[1] for row in rows]\n",
    "        plt.plot(timestamps, temps, label=f'{city}')\n",
    "        plt.title(f\"Temperature Trend for {city}\")\n",
    "        plt.xlabel('Time')\n",
    "        plt.ylabel('Temperature (Celsius)')\n",
    "        plt.legend()\n",
    "        plt.show()\n",
    "\n",
    "# Plot data for a specific city\n",
    "plot_weather_trend('Delhi')\n"
   ]
  },
  {
   "cell_type": "code",
   "execution_count": 79,
   "id": "b830a650-67f0-42d4-8825-e176648aac3d",
   "metadata": {},
   "outputs": [],
   "source": [
    "def job():\n",
    "    for city in CITIES:\n",
    "        weather_data = fetch_weather_data(city)\n",
    "        if weather_data:\n",
    "            insert_weather_data(weather_data)\n",
    "    calculate_daily_summary()\n",
    "\n",
    "# Schedule the job to run every 5 minutes (or manually trigger it)\n",
    "schedule.every(5).minutes.do(job)\n",
    "\n",
    "# For demonstration, run it once manually\n",
    "job()\n"
   ]
  },
  {
   "cell_type": "code",
   "execution_count": null,
   "id": "7c59f686-0ab0-41bd-9a57-6f0ad34ffe4c",
   "metadata": {},
   "outputs": [],
   "source": []
  }
 ],
 "metadata": {
  "kernelspec": {
   "display_name": "Python 3 (ipykernel)",
   "language": "python",
   "name": "python3"
  },
  "language_info": {
   "codemirror_mode": {
    "name": "ipython",
    "version": 3
   },
   "file_extension": ".py",
   "mimetype": "text/x-python",
   "name": "python",
   "nbconvert_exporter": "python",
   "pygments_lexer": "ipython3",
   "version": "3.10.0"
  }
 },
 "nbformat": 4,
 "nbformat_minor": 5
}
